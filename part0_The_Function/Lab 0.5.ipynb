{
 "cells": [
  {
   "cell_type": "markdown",
   "id": "c93aba72",
   "metadata": {},
   "source": [
    "# Chapter 1: The Function\n",
    "\n",
    "## Lab 0.5"
   ]
  },
  {
   "cell_type": "code",
   "execution_count": 10,
   "id": "33b29442",
   "metadata": {},
   "outputs": [
    {
     "data": {
      "text/plain": [
       "{1, 4, 9, 16, 25}"
      ]
     },
     "execution_count": 10,
     "metadata": {},
     "output_type": "execute_result"
    }
   ],
   "source": [
    "# Task 0.5.5: Write a comprehension over {1, 2, 3, 4, 5} whose value is the set consisting of the squares of the first five positive integers.\n",
    "\n",
    "{x**2 for x in {1,2,3,4,5}}"
   ]
  },
  {
   "cell_type": "code",
   "execution_count": 12,
   "id": "284c539c",
   "metadata": {},
   "outputs": [
    {
     "data": {
      "text/plain": [
       "{32, 64, 128, 256, 512}"
      ]
     },
     "execution_count": 12,
     "metadata": {},
     "output_type": "execute_result"
    }
   ],
   "source": [
    "# Task 0.5.6: Write a comprehension over {0, 1, 2, 3, 4} whose value is the set consisting of the first five powers of two, starting with 20.\n",
    "\n",
    "{2**(5+x) for x in {0,1,2,3,4}}"
   ]
  },
  {
   "cell_type": "code",
   "execution_count": 18,
   "id": "e38345a1",
   "metadata": {},
   "outputs": [
    {
     "data": {
      "text/plain": [
       "9"
      ]
     },
     "execution_count": 18,
     "metadata": {},
     "output_type": "execute_result"
    }
   ],
   "source": [
    "# Task 0.5.7: The value of the previous comprehension, {x*y for x in {1,2,3} for y in {2,3,4}} is a seven-element set. Replace {1,2,3} and {2,3,4} with two other three-element sets so that the value becomes a nine-element set.\n",
    "\n",
    "len({x*y for x in {10,20,30} for y in {11,12,13}})"
   ]
  },
  {
   "cell_type": "code",
   "execution_count": 21,
   "id": "c973988a",
   "metadata": {},
   "outputs": [
    {
     "data": {
      "text/plain": [
       "{240, 260, 330, 360, 390}"
      ]
     },
     "execution_count": 21,
     "metadata": {},
     "output_type": "execute_result"
    }
   ],
   "source": [
    "# Task 0.5.8: Replace {1,2,3} and {2,3,4} in the previous comprehension with two disjoint (i.e. non-overlapping) three-element sets so that the value becomes a five-element set.\n",
    "\n",
    "{x*y for x in {10,20,30} for y in {11,12,13} if x*y>220}"
   ]
  },
  {
   "cell_type": "code",
   "execution_count": 24,
   "id": "d633daa1",
   "metadata": {},
   "outputs": [
    {
     "data": {
      "text/plain": [
       "{3, 4, 5, 6}"
      ]
     },
     "execution_count": 24,
     "metadata": {},
     "output_type": "execute_result"
    }
   ],
   "source": [
    "# Task 0.5.9: Assume that S and T are assigned sets. Without using the intersection operator &, write a comprehension over S whose value is the intersection of S and T. Hint: Use a membership test in a filter at the end of the comprehension. Try out your comprehension with S = {1,2,3,4} and T = {3,4,5,6}.\n",
    "\n",
    "S={1,2,3,4}\n",
    "T={3,4,5,6}\n",
    "\n",
    "{S for S in T}\n"
   ]
  },
  {
   "cell_type": "markdown",
   "id": "dcd6d4af",
   "metadata": {},
   "source": [
    "## 0.8 Problems\n",
    "### Python Comprehension Problems\n",
    "\n",
    "- For each of the following problems, write the one-line procedure using a comprehension."
   ]
  },
  {
   "cell_type": "code",
   "execution_count": 26,
   "id": "57ed7e2f",
   "metadata": {},
   "outputs": [
    {
     "data": {
      "text/plain": [
       "{2, 6, 8}"
      ]
     },
     "execution_count": 26,
     "metadata": {},
     "output_type": "execute_result"
    }
   ],
   "source": [
    "#Problem 0.8.1: increments(L) \n",
    "# input: list L of numbers \n",
    "# output: list of numbers in which the ith element is one plus the ith element of L. \n",
    "#cExample: increments([1,5,7]) should return [2,6,8].\n",
    "\n",
    "def increments (L):\n",
    "    return {x+1 for x in L}\n",
    "\n",
    "increments([1,5,7])"
   ]
  },
  {
   "cell_type": "code",
   "execution_count": 28,
   "id": "3d3651aa",
   "metadata": {},
   "outputs": [
    {
     "data": {
      "text/plain": [
       "{1, 8, 27}"
      ]
     },
     "execution_count": 28,
     "metadata": {},
     "output_type": "execute_result"
    }
   ],
   "source": [
    "# Problem 0.8.2: cubes(L)\n",
    "# input: list L of numbers\n",
    "# output: list of numbers in which the ith element is the cube of the ith element of L.\n",
    "# Example: given [1, 2, 3] return [1, 8, 27].\n",
    "\n",
    "def cubes(L):\n",
    "    return {x**3 for x in L}\n",
    "\n",
    "cubes([1,2,3])"
   ]
  },
  {
   "cell_type": "code",
   "execution_count": 228,
   "id": "79a04823",
   "metadata": {},
   "outputs": [
    {
     "data": {
      "text/plain": [
       "[[4, 6], [40, 60]]"
      ]
     },
     "execution_count": 228,
     "metadata": {},
     "output_type": "execute_result"
    }
   ],
   "source": [
    "# Problem 0.8.3: tuple sum(A, B)\n",
    "# input: lists A and B of the same length, where each element in each list is a pair (x, y) of numbers\n",
    "# output: list of pairs (x, y) in which the first element of the ith pair is the sum of the first element of the ith pair in A and the first element of the ith pair in B\n",
    "# example: given lists [(1, 2), (10, 20)] and [(3, 4), (30, 40)], return [(4, 6), (40, 60)].\n",
    "\n",
    "def tuple_sum(A, B):\n",
    "    \n",
    "    out = []\n",
    "    for a,b in [x for x in zip(A,B)]:\n",
    "        out1 = []\n",
    "        for a1, b1 in zip(a, b):\n",
    "            out1.append(a1+b1)\n",
    "        out.append(out1)\n",
    "    \n",
    "    return [[a1+b1 for a1, b1 in zip(a,b)] for a, b in zip (A, B)]\n",
    "    \n",
    "    \n",
    "    \n",
    "tuple_sum([(1, 2), (10, 20)], [(3, 4), (30, 40)])"
   ]
  },
  {
   "cell_type": "code",
   "execution_count": 206,
   "id": "371671cb",
   "metadata": {},
   "outputs": [
    {
     "data": {
      "text/plain": [
       "[{'merci': 'thank you'}, {'au revoir': 'goodbye'}]"
      ]
     },
     "execution_count": 206,
     "metadata": {},
     "output_type": "execute_result"
    }
   ],
   "source": [
    "# Problem 0.8.4: inv dict(d)\n",
    "# input: dictionary d representing an invertible function f\n",
    "# output: dictionary representing the inverse of f, the returned dictionary’s keys are the values of d and its values are the keys of d\n",
    "# example: given an English-French dictionary\n",
    "# {'thank you': 'merci', 'goodbye': 'au revoir'}\n",
    "# return a French-English dictionary\n",
    "# {'merci':'thank you', 'au revoir':'goodbye'}\n",
    "\n",
    "def inv_dict(d):\n",
    "    return [{v:k} for v,k in zip(d.values(), d.keys())]\n",
    "\n",
    "inv_dict({'thank you': 'merci', 'goodbye': 'au revoir'})"
   ]
  },
  {
   "cell_type": "code",
   "execution_count": 238,
   "id": "02281020",
   "metadata": {},
   "outputs": [
    {
     "data": {
      "text/plain": [
       "[10, 11, 12, 13]"
      ]
     },
     "execution_count": 238,
     "metadata": {},
     "output_type": "execute_result"
    }
   ],
   "source": [
    "# Problem 0.8.5: First write a procedure row(p, n) with the following spec:\n",
    "# input: integer p, integer n\n",
    "# output: n-element list such that element i is p + i\n",
    "# example: given p = 10 and n = 4, return [10, 11, 12, 13]\n",
    "# Next write a comprehension whose value is a 15-element list of 20-element lists such that the jth element of the ith list is i + j. You can use row(p, n) in your comprehension.\n",
    "# Finally, write the same comprehension but without using row(p, n). Hint: replace the call to row(p, n) with the comprehension that forms the body of row(p, n).\n",
    "\n",
    "def row(p, n):\n",
    "    return [p+i for i in range(n)]\n",
    "\n",
    "row(10, 4)"
   ]
  },
  {
   "cell_type": "markdown",
   "id": "a49ba617",
   "metadata": {},
   "source": [
    "### Functional Inverse"
   ]
  },
  {
   "cell_type": "code",
   "execution_count": null,
   "id": "ef2b85fa",
   "metadata": {},
   "outputs": [],
   "source": []
  }
 ],
 "metadata": {
  "kernelspec": {
   "display_name": "Python 3",
   "language": "python",
   "name": "python3"
  },
  "language_info": {
   "codemirror_mode": {
    "name": "ipython",
    "version": 3
   },
   "file_extension": ".py",
   "mimetype": "text/x-python",
   "name": "python",
   "nbconvert_exporter": "python",
   "pygments_lexer": "ipython3",
   "version": "3.9.12"
  },
  "varInspector": {
   "cols": {
    "lenName": 16,
    "lenType": 16,
    "lenVar": 40
   },
   "kernels_config": {
    "python": {
     "delete_cmd_postfix": "",
     "delete_cmd_prefix": "del ",
     "library": "var_list.py",
     "varRefreshCmd": "print(var_dic_list())"
    },
    "r": {
     "delete_cmd_postfix": ") ",
     "delete_cmd_prefix": "rm(",
     "library": "var_list.r",
     "varRefreshCmd": "cat(var_dic_list()) "
    }
   },
   "types_to_exclude": [
    "module",
    "function",
    "builtin_function_or_method",
    "instance",
    "_Feature"
   ],
   "window_display": false
  }
 },
 "nbformat": 4,
 "nbformat_minor": 5
}
