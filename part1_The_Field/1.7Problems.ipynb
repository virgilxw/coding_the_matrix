{
 "cells": [
  {
   "cell_type": "markdown",
   "metadata": {},
   "source": [
    "# 1.7 Problems\n",
    "## Python Comprehension problems"
   ]
  },
  {
   "cell_type": "code",
   "execution_count": 5,
   "metadata": {},
   "outputs": [
    {
     "data": {
      "text/plain": [
       "[1, 5, 7]"
      ]
     },
     "execution_count": 5,
     "metadata": {},
     "output_type": "execute_result"
    }
   ],
   "source": [
    "# Problem 1.7.1: my filter(L, num)\n",
    "# input: list of numbers and a positive integer.\n",
    "# output: list of numbers not containing a multiple of num.\n",
    "# example: given list = [1,2,4,5,7] and num = 2, return [1,5,7].\n",
    "\n",
    "def my_filter(L, num):\n",
    "    return [x for x in L if x%num!=0]\n",
    "\n",
    "my_filter([1,2,4,5,7], 2)"
   ]
  },
  {
   "cell_type": "code",
   "execution_count": 17,
   "metadata": {},
   "outputs": [
    {
     "data": {
      "text/plain": [
       "[[1], [1, 2], [1, 2, 3, 4]]"
      ]
     },
     "execution_count": 17,
     "metadata": {},
     "output_type": "execute_result"
    }
   ],
   "source": [
    "# Problem 1.7.2: my lists(L)\n",
    "# input: list L of non-negative integers.\n",
    "# output: a list of lists: for every element x in L create a list containing 1, 2, . . . ,x.\n",
    "# example: given [1,2,4] return [[1],[1,2],[1,2,3,4]]. example: given [0] return [[]].\n",
    "\n",
    "def my_lists(L):\n",
    "    return [list(range(1, i+1)) for i in L]\n",
    "    \n",
    "my_lists([1,2,4])"
   ]
  },
  {
   "cell_type": "markdown",
   "metadata": {},
   "source": []
  },
  {
   "cell_type": "code",
   "execution_count": 30,
   "metadata": {},
   "outputs": [
    {
     "data": {
      "text/plain": [
       "{0: 'apple', 1: 'banana'}"
      ]
     },
     "execution_count": 30,
     "metadata": {},
     "output_type": "execute_result"
    }
   ],
   "source": [
    "# Problem 1.7.3: my function composition(f,g)\n",
    "# input: two functions f and g, represented as dictionaries, such that g ◦ f exists.\n",
    "# output: dictionary that represents the function g ◦ f.\n",
    "# example: given f = {0:’a’, 1:’b’) and g = {’a’:’apple’, ’b’:’banana’), return {0:’apple’, 1:’banana’).\n",
    "\n",
    "def my_function(f,g):\n",
    "    return {i: g[f[i]] for i in f)\n",
    "\n",
    "my_function({0:'a', 1:'b'), {'a':'apple', 'b':'banana'))"
   ]
  },
  {
   "cell_type": "markdown",
   "metadata": {},
   "source": [
    "## Python Loop Problems"
   ]
  },
  {
   "cell_type": "code",
   "execution_count": 35,
   "metadata": {},
   "outputs": [
    {
     "data": {
      "text/plain": [
       "15"
      ]
     },
     "execution_count": 35,
     "metadata": {},
     "output_type": "execute_result"
    }
   ],
   "source": [
    "# Problem 1.7.4: mySum(L)\n",
    "# Input: list of numbers\n",
    "# Output: sum of numbers in the list\n",
    "\n",
    "def mySum(L):\n",
    "    current = 0\n",
    "    for x in L:\n",
    "        current = current + x\n",
    "    return current  \n",
    "\n",
    "mySum([5,4,3,2,1])"
   ]
  },
  {
   "cell_type": "code",
   "execution_count": 41,
   "metadata": {},
   "outputs": [
    {
     "data": {
      "text/plain": [
       "120"
      ]
     },
     "execution_count": 41,
     "metadata": {},
     "output_type": "execute_result"
    }
   ],
   "source": [
    "# Problem 1.7.5: myProduct(L)\n",
    "# input: list of numbers\n",
    "# output: product of numbers in the list\n",
    "\n",
    "def myProduct(L):\n",
    "    current = 1\n",
    "    for x in L:\n",
    "        current = current * x\n",
    "    return current  \n",
    "\n",
    "myProduct([5,4,3,2,1])"
   ]
  },
  {
   "cell_type": "code",
   "execution_count": 45,
   "metadata": {},
   "outputs": [
    {
     "data": {
      "text/plain": [
       "1"
      ]
     },
     "execution_count": 45,
     "metadata": {},
     "output_type": "execute_result"
    }
   ],
   "source": [
    "# Problem 1.7.6: myMin(L)\n",
    "# input: list of numbers\n",
    "# output: minimum number in the list\n",
    "\n",
    "def myMin(L):\n",
    "    current = L[0]\n",
    "    for x in L:\n",
    "        current = x if x < current else current\n",
    "    return current  \n",
    "\n",
    "myMin([5,4,3,2,1])"
   ]
  },
  {
   "cell_type": "code",
   "execution_count": 52,
   "metadata": {},
   "outputs": [
    {
     "data": {
      "text/plain": [
       "'thisistheofmylife'"
      ]
     },
     "execution_count": 52,
     "metadata": {},
     "output_type": "execute_result"
    }
   ],
   "source": [
    "# Problem 1.7.7: myConcat(L)\n",
    "# input: list of strings\n",
    "# output: concatenation of all the strings in L\n",
    "\n",
    "def myConcat(L):\n",
    "    current = \"\"\n",
    "    for x in L:\n",
    "        current = current + x\n",
    "    return current  \n",
    "\n",
    "myConcat([\"this\", \"is\", \"the\", \"of\", \"my\", \"life\"])"
   ]
  },
  {
   "cell_type": "code",
   "execution_count": 55,
   "metadata": {},
   "outputs": [
    {
     "data": {
      "text/plain": [
       "{1, 2, 3, 4, 5, 6, 8, 9, 10, 12, 15}"
      ]
     },
     "execution_count": 55,
     "metadata": {},
     "output_type": "execute_result"
    }
   ],
   "source": [
    "# Problem 1.7.8: myUnion(L)\n",
    "# input: list of sets\n",
    "# output: the union of all sets in L.\n",
    "\n",
    "def myUnion(L):\n",
    "    current = set()\n",
    "    for x in L:\n",
    "        current = current | x\n",
    "    return current  \n",
    "\n",
    "myUnion([{1,2,3,4,5},{2,4,6,8,10},{3,6,9,12,15}])"
   ]
  }
 ],
 "metadata": {
  "kernelspec": {
   "display_name": "Python 3.10.6 64-bit",
   "language": "python",
   "name": "python3"
  },
  "language_info": {
   "codemirror_mode": {
    "name": "ipython",
    "version": 3
   },
   "file_extension": ".py",
   "mimetype": "text/x-python",
   "name": "python",
   "nbconvert_exporter": "python",
   "pygments_lexer": "ipython3",
   "version": "3.10.6"
  },
  "orig_nbformat": 4,
  "vscode": {
   "interpreter": {
    "hash": "e7370f93d1d0cde622a1f8e1c04877d8463912d04d973331ad4851f04de6915a"
   }
  }
 },
 "nbformat": 4,
 "nbformat_minor": 2
}
