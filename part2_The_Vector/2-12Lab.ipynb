{
 "cells": [
  {
   "cell_type": "markdown",
   "metadata": {},
   "source": [
    "# Lab 2.12 Lab: Comparing voting records using dot_product\n",
    "\n",
    "## 2.12.2 Reading in the file"
   ]
  },
  {
   "cell_type": "code",
   "execution_count": 149,
   "metadata": {},
   "outputs": [],
   "source": [
    "f = open(\"voting_record_dump109.txt\")\n",
    "mylist = list(f)\n",
    "\n",
    "# Task 2.12.1: Write a procedure create voting dict(strlist) that, given a list of\n",
    "# strings (voting records from the source file), returns a dictionary that maps the last name\n",
    "# of a senator to a list of numbers representing that senator’s voting record. You will need to\n",
    "# use the built-in procedure int(·) to convert a string representation of an integer (e.g. ‘1’)\n",
    "# to the actual integer (e.g. 1).\n",
    "\n",
    "\n",
    "def create_voting_dict(strlist):\n",
    "    outList = {}\n",
    "    for eachSenator in strlist:  #\n",
    "        eachSenator = [x.strip() for x in eachSenator.split(\" \")]\n",
    "        senatorName = eachSenator[0]\n",
    "        votesArray = [int(x) for x in eachSenator[3:]]\n",
    "        outList[senatorName] = votesArray\n",
    "    return outList\n",
    "\n",
    "\n",
    "voting_dict = create_voting_dict(mylist)"
   ]
  },
  {
   "cell_type": "code",
   "execution_count": 150,
   "metadata": {},
   "outputs": [
    {
     "data": {
      "text/plain": [
       "30"
      ]
     },
     "execution_count": 150,
     "metadata": {},
     "output_type": "execute_result"
    }
   ],
   "source": [
    "# Task 2.12.2: Write a procedure policy compare(sen a, sen b, voting dict) that,\n",
    "# given two names of senators and a dictionary mapping senator names to lists representing\n",
    "# voting records, returns the dot-product representing the degree of similarity between two\n",
    "# senators’ voting policies.\n",
    "\n",
    "\n",
    "def AND(x, y):\n",
    "    return 1 if x == y else 0\n",
    "\n",
    "\n",
    "def policy_compare(sen_a, sen_b, voting_dict):\n",
    "    return sum(AND(x, y) for x, y in zip(voting_dict[sen_a], voting_dict[sen_b]))\n",
    "\n",
    "\n",
    "policy_compare(\"Obama\", \"McCain\", voting_dict)"
   ]
  },
  {
   "cell_type": "code",
   "execution_count": 151,
   "metadata": {},
   "outputs": [
    {
     "data": {
      "text/plain": [
       "'Kerry'"
      ]
     },
     "execution_count": 151,
     "metadata": {},
     "output_type": "execute_result"
    }
   ],
   "source": [
    "# Task 2.12.3: Write a procedure most similar(sen, voting dict) that, given the name\n",
    "# of a senator and a dictionary mapping senator names to lists representing voting records,\n",
    "# returns the name of the senator whose political mindset is most like the input senator\n",
    "# (excluding, of course, the input senator him/herself).\n",
    "\n",
    "from functools import reduce\n",
    "\n",
    "\n",
    "def most_similar(sen, voting_dict):\n",
    "\n",
    "    inputRecord = voting_dict[sen]\n",
    "    top_match = {\"name\": \"name\", \"value\": int()}\n",
    "\n",
    "    for key, value in voting_dict.items():\n",
    "        if key != sen:\n",
    "            simliarity = sum(AND(x, y) for x, y in zip(inputRecord, value))\n",
    "            if simliarity > top_match[\"value\"]:\n",
    "                top_match[\"name\"] = key\n",
    "                top_match[\"value\"] = simliarity\n",
    "\n",
    "    return top_match[\"name\"]\n",
    "\n",
    "\n",
    "most_similar(\"Obama\", voting_dict)"
   ]
  },
  {
   "cell_type": "code",
   "execution_count": 152,
   "metadata": {},
   "outputs": [
    {
     "data": {
      "text/plain": [
       "'name'"
      ]
     },
     "execution_count": 152,
     "metadata": {},
     "output_type": "execute_result"
    }
   ],
   "source": [
    "# Task 2.12.4: Write a very similar procedure least similar(sen, voting dict) that\n",
    "# returns the name of the senator whose voting record agrees the least with the senator whose\n",
    "# name is sen.\n",
    "\n",
    "\n",
    "def least_similar(sen, voting_dict):\n",
    "\n",
    "    inputRecord = voting_dict[sen]\n",
    "    top_match = {\"name\": \"name\", \"value\": int()}\n",
    "\n",
    "    for key, value in voting_dict.items():\n",
    "        if key != sen:\n",
    "            simliarity = sum(AND(x, y) for x, y in zip(inputRecord, value))\n",
    "            if simliarity < top_match[\"value\"] | top_match[\"value\"] == 0:\n",
    "                top_match[\"name\"] = key\n",
    "                top_match[\"value\"] = simliarity\n",
    "                print(top_match)\n",
    "\n",
    "    return top_match[\"name\"]\n",
    "\n",
    "\n",
    "least_similar(\"Obama\", voting_dict)"
   ]
  },
  {
   "cell_type": "code",
   "execution_count": 153,
   "metadata": {},
   "outputs": [
    {
     "name": "stdout",
     "output_type": "stream",
     "text": [
      "Chafee: Jeffords\n",
      "Sanctorum: name\n"
     ]
    }
   ],
   "source": [
    "# Task 2.12.5: Use these procedures to figure out which senator is most like Rhode Island\n",
    "# legend Lincoln Chafee. Then use these procedures to see who disagrees most with Pennsylvania’s\n",
    "# Rick Santorum. Give their names.\n",
    "\n",
    "print(\"Chafee: {}\".format(most_similar(\"Chafee\", voting_dict)))\n",
    "\n",
    "print(\"Sanctorum: {}\".format(least_similar(\"Santorum\", voting_dict)))"
   ]
  },
  {
   "cell_type": "code",
   "execution_count": 154,
   "metadata": {},
   "outputs": [],
   "source": [
    "# Task 2.12.6: How similar are the voting records of the two senators from your favorite\n",
    "# state?\n",
    "\n",
    "# Not American lol"
   ]
  },
  {
   "cell_type": "markdown",
   "metadata": {},
   "source": [
    "## 2.12.5 Not your average Democrat"
   ]
  },
  {
   "cell_type": "code",
   "execution_count": 155,
   "metadata": {},
   "outputs": [
    {
     "name": "stdout",
     "output_type": "stream",
     "text": [
      "Most Average Dem Senator Biden\n"
     ]
    }
   ],
   "source": [
    "# Task 2.12.7: Write a procedure find average similarity(sen, sen set, voting dict)\n",
    "# that, given the name sen of a senator, compares that senator’s voting record to the voting\n",
    "# records of all senators whose names are in sen set, computing a dot-product for each, and\n",
    "# then returns the average dot-product.\n",
    "# Use your procedure to compute which senator has the greatest average similarity with\n",
    "# the set of Democrats (you can extract this set from the input file).\n",
    "\n",
    "\n",
    "def find_average_similarity(sen, sen_set, voting_dict):\n",
    "    if sen not in sen_set:\n",
    "        raise Exception(\"senator not in senator list\")\n",
    "\n",
    "    scoresList = []\n",
    "\n",
    "    for sen2 in sen_set:\n",
    "        if sen != sen2:\n",
    "            scoresList.append(policy_compare(sen, sen2, voting_dict))\n",
    "\n",
    "    return sum(scoresList) / len(scoresList)\n",
    "\n",
    "\n",
    "def party_members(party, strlist):\n",
    "    outSet = set()\n",
    "    for eachSenator in strlist:\n",
    "        eachSenator = [x.strip() for x in eachSenator.split(\" \")]\n",
    "        senatorName = eachSenator[0]\n",
    "        if party == eachSenator[1]:\n",
    "            outSet.add(senatorName)\n",
    "    return outSet\n",
    "\n",
    "\n",
    "demSet = party_members(\"D\", mylist)\n",
    "\n",
    "mostAvgDemSen = {\"name\": \"name\", \"value\": int()}\n",
    "for sen in demSet:\n",
    "    score = find_average_similarity(sen, demSet, voting_dict)\n",
    "    if score > mostAvgDemSen[\"value\"]:\n",
    "        mostAvgDemSen = {\"name\": sen, \"value\": score}\n",
    "\n",
    "print(\"Most Average Dem Senator {}\".format(mostAvgDemSen[\"name\"]))"
   ]
  },
  {
   "cell_type": "code",
   "execution_count": 166,
   "metadata": {},
   "outputs": [
    {
     "name": "stdout",
     "output_type": "stream",
     "text": [
      "Most Average Dem Senator Nelson2\n"
     ]
    }
   ],
   "source": [
    "# Task 2.12.8: Write a procedure find average record(sen set, voting dict) that,\n",
    "# given a set of names of senators, finds the average voting record. That is, perform vector\n",
    "# addition on the lists representing their voting records, and then divide the sum by the number\n",
    "# of vectors. The result should be a vector.\n",
    "# Use this procedure to compute the average voting record for the set of Democrats, and\n",
    "# assign the result to the variable average Democrat record.\n",
    "\n",
    "\n",
    "def find_average_record(sen_set, voting_dict):\n",
    "    if sen not in sen_set:\n",
    "        raise Exception(\"senator not in senator list\")\n",
    "\n",
    "    senSubset = dict((key, voting_dict[key]) for key in sen_set if key in voting_dict)\n",
    "\n",
    "    avgList = []\n",
    "    for i, content in enumerate(senSubset[list(senSubset.keys())[0]]):\n",
    "        scoresList = [value[i] for name, value in senSubset.items()]\n",
    "        avgList.append(sum(scoresList) / len(scoresList))\n",
    "    return avgList\n",
    "\n",
    "\n",
    "average_Democrat_record = find_average_record(demSet, voting_dict)\n",
    "\n",
    "# Next find which senator’s\n",
    "# voting record is most similar to the average Democrat voting record. Did you get the same\n",
    "# result as in Task 2.12.7? Can you explain?\n",
    "\n",
    "\n",
    "def senatorDeviation(sen, avg_compare_record, voting_dict):\n",
    "\n",
    "    sen = voting_dict[sen]\n",
    "    diff_list = []\n",
    "\n",
    "    for sen_i, avg_i in zip(sen, avg_compare_record):\n",
    "        diff_list.append(abs(sen_i - avg_i))\n",
    "\n",
    "    return sum(diff_list) / len(diff_list)\n",
    "\n",
    "\n",
    "senatorDeviation(\"Obama\", average_Democrat_record, voting_dict)\n",
    "\n",
    "mostAvgDemSen = {\"name\": \"name\", \"value\": int()}\n",
    "\n",
    "for sen in demSet:\n",
    "    score = senatorDeviation(sen, average_Democrat_record, voting_dict)\n",
    "    if score > mostAvgDemSen[\"value\"]:\n",
    "        mostAvgDemSen = {\"name\": sen, \"value\": score}\n",
    "\n",
    "print(\"Most Average Dem Senator {}\".format(mostAvgDemSen[\"name\"]))"
   ]
  },
  {
   "cell_type": "markdown",
   "metadata": {},
   "source": [
    "## 2.12.6 Bitter Rivals"
   ]
  },
  {
   "cell_type": "code",
   "execution_count": 177,
   "metadata": {},
   "outputs": [
    {
     "name": "stdout",
     "output_type": "stream",
     "text": [
      "Biggest rivals are Feingold and Inhofe, at 1.065217391304348\n"
     ]
    }
   ],
   "source": [
    "# Task 2.12.9: Write a procedure bitter rivals(voting dict) to find which two senators\n",
    "# disagree the most.\n",
    "\n",
    "\n",
    "def better_rivals(sen1, sen2):\n",
    "\n",
    "    diff_list = []\n",
    "\n",
    "    for sen1i, sen2i in zip(sen1, sen2):\n",
    "        diff_list.append(abs(sen1i - sen2i))\n",
    "\n",
    "    return sum(diff_list) / len(diff_list)\n",
    "\n",
    "\n",
    "rivalsBuffer = {\"sen1\": \"\", \"sen2\": \"\", \"diffScore\": 0}\n",
    "\n",
    "for sen1 in voting_dict:\n",
    "    for sen2 in voting_dict:\n",
    "        if sen1 != sen2:\n",
    "            diffScore = better_rivals(voting_dict[sen1], voting_dict[sen2])\n",
    "            if diffScore > rivalsBuffer[\"diffScore\"]:\n",
    "                rivalsBuffer = {\"sen1\": sen1, \"sen2\": sen2, \"diffScore\": diffScore}\n",
    "            \n",
    "print(\"Biggest rivals are {} and {}, at {}\".format(rivalsBuffer[\"sen1\"],rivalsBuffer[\"sen2\"],rivalsBuffer[\"diffScore\"]))"
   ]
  },
  {
   "cell_type": "markdown",
   "metadata": {},
   "source": [
    "\n",
    "## 2.12.7 Open ended study"
   ]
  },
  {
   "cell_type": "code",
   "execution_count": 197,
   "metadata": {},
   "outputs": [
    {
     "name": "stdout",
     "output_type": "stream",
     "text": [
      "Most Democratic Senator is Sarbanes\n",
      "Most Repbulican Senator is Collins\n"
     ]
    }
   ],
   "source": [
    "# Who/which is the most Republican/Democratic senator/state?\n",
    "\n",
    "def split (num):\n",
    "    if num < 0:\n",
    "        return -1\n",
    "    elif num > 0:\n",
    "        return 1\n",
    "    else:\n",
    "        return 0\n",
    "\n",
    "def find_partisan_preference (sen_set, voting_dict):\n",
    "\n",
    "    senSubset = dict((key, voting_dict[key]) for key in sen_set if key in voting_dict)\n",
    "\n",
    "    avgList = []\n",
    "    for i, content in enumerate(senSubset[list(senSubset.keys())[0]]):\n",
    "        scoresList = [value[i] for name, value in senSubset.items()]\n",
    "        avgList.append(split(sum(scoresList) / len(scoresList)))\n",
    "    return avgList\n",
    "\n",
    "demSubset = dict((key, voting_dict[key]) for key in demSet if key in voting_dict)\n",
    "dem_pref = find_partisan_preference(demSet, voting_dict)\n",
    "\n",
    "top_match = {\"name\": \"\", \"value\": 0}\n",
    "for name, value in demSubset.items():\n",
    "    senDev= senatorDeviation(name, dem_pref, voting_dict)\n",
    "    if senDev < top_match[\"value\"] or top_match[\"value\"] == 0:\n",
    "        top_match = {\"name\": name, \"value\": senDev}\n",
    "\n",
    "print(\"Most Democratic Senator is {}\".format(top_match[\"name\"]))\n",
    "\n",
    "repSet = party_members(\"R\", mylist)\n",
    "repSubset = dict((key, voting_dict[key]) for key in repSet if key in voting_dict)\n",
    "rep_pref = find_partisan_preference(repSet, voting_dict)\n",
    "\n",
    "top_match = {\"name\": \"\", \"value\": 0}\n",
    "for name, value in repSubset.items():\n",
    "    senDev= senatorDeviation(name, rep_pref, voting_dict)\n",
    "    if senDev < top_match[\"value\"] or top_match[\"value\"] == 0:\n",
    "        top_match = {\"name\": name, \"value\": senDev}\n",
    "\n",
    "print(\"Most Repbulican Senator is {}\".format(top_match[\"name\"]))\n"
   ]
  }
 ],
 "metadata": {
  "kernelspec": {
   "display_name": "Python 3.10.6 64-bit",
   "language": "python",
   "name": "python3"
  },
  "language_info": {
   "codemirror_mode": {
    "name": "ipython",
    "version": 3
   },
   "file_extension": ".py",
   "mimetype": "text/x-python",
   "name": "python",
   "nbconvert_exporter": "python",
   "pygments_lexer": "ipython3",
   "version": "3.10.6"
  },
  "orig_nbformat": 4,
  "vscode": {
   "interpreter": {
    "hash": "e7370f93d1d0cde622a1f8e1c04877d8463912d04d973331ad4851f04de6915a"
   }
  }
 },
 "nbformat": 4,
 "nbformat_minor": 2
}
