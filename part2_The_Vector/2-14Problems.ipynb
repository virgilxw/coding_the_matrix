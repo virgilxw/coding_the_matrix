{
 "cells": [
  {
   "cell_type": "markdown",
   "metadata": {},
   "source": [
    "# 2.14 Problems"
   ]
  },
  {
   "cell_type": "code",
   "execution_count": 1,
   "metadata": {},
   "outputs": [],
   "source": [
    "from plotting import plot"
   ]
  },
  {
   "cell_type": "code",
   "execution_count": 6,
   "metadata": {},
   "outputs": [
    {
     "name": "stdout",
     "output_type": "stream",
     "text": [
      "Opening \"/tmp/tmpnm49pqlh.html\" with Vim  (text/html)\n"
     ]
    },
    {
     "name": "stderr",
     "output_type": "stream",
     "text": [
      "Library libsecret-1.so.0 cannot be loaded, related functionality will not be available\n",
      "\n",
      "(tilix:1298): Gdk-CRITICAL **: 15:30:23.983: gdk_seat_get_keyboard: assertion 'GDK_IS_SEAT (seat)' failed\n",
      "\n",
      "(tilix:1298): Gdk-CRITICAL **: 15:30:24.075: gdk_seat_get_keyboard: assertion 'GDK_IS_SEAT (seat)' failed\n",
      "\n",
      "(tilix:1298): Gdk-CRITICAL **: 15:30:24.076: gdk_seat_get_keyboard: assertion 'GDK_IS_SEAT (seat)' failed\n",
      "\n",
      "(tilix:1298): Gdk-CRITICAL **: 15:30:24.076: gdk_seat_get_keyboard: assertion 'GDK_IS_SEAT (seat)' failed\n",
      "\n",
      "(tilix:1298): Gdk-CRITICAL **: 15:30:24.076: gdk_seat_get_keyboard: assertion 'GDK_IS_SEAT (seat)' failed\n",
      "\n",
      "(tilix:1298): Gdk-CRITICAL **: 15:30:24.076: gdk_seat_get_keyboard: assertion 'GDK_IS_SEAT (seat)' failed\n",
      "\n",
      "(tilix:1298): Gdk-CRITICAL **: 15:30:24.076: gdk_seat_get_keyboard: assertion 'GDK_IS_SEAT (seat)' failed\n",
      "\n",
      "(tilix:1298): Gdk-CRITICAL **: 15:30:24.076: gdk_seat_get_keyboard: assertion 'GDK_IS_SEAT (seat)' failed\n",
      "\n",
      "(tilix:1298): Gdk-CRITICAL **: 15:30:24.076: gdk_seat_get_keyboard: assertion 'GDK_IS_SEAT (seat)' failed\n",
      "\n",
      "(tilix:1298): Gdk-CRITICAL **: 15:30:24.076: gdk_seat_get_keyboard: assertion 'GDK_IS_SEAT (seat)' failed\n",
      "\n",
      "(tilix:1298): Gdk-CRITICAL **: 15:30:24.076: gdk_seat_get_keyboard: assertion 'GDK_IS_SEAT (seat)' failed\n",
      "\n",
      "(tilix:1298): Gdk-CRITICAL **: 15:30:24.076: gdk_seat_get_keyboard: assertion 'GDK_IS_SEAT (seat)' failed\n",
      "\n",
      "(tilix:1298): Gdk-CRITICAL **: 15:30:24.076: gdk_seat_get_keyboard: assertion 'GDK_IS_SEAT (seat)' failed\n",
      "\n",
      "(tilix:1298): Gdk-CRITICAL **: 15:30:24.076: gdk_seat_get_keyboard: assertion 'GDK_IS_SEAT (seat)' failed\n",
      "\n",
      "(tilix:1298): Gdk-CRITICAL **: 15:30:24.076: gdk_seat_get_keyboard: assertion 'GDK_IS_SEAT (seat)' failed\n",
      "\n",
      "(tilix:1298): Gdk-CRITICAL **: 15:30:24.076: gdk_seat_get_keyboard: assertion 'GDK_IS_SEAT (seat)' failed\n",
      "\n",
      "(tilix:1298): Gdk-CRITICAL **: 15:30:24.076: gdk_seat_get_keyboard: assertion 'GDK_IS_SEAT (seat)' failed\n",
      "\n",
      "(tilix:1298): Gdk-CRITICAL **: 15:30:24.076: gdk_seat_get_keyboard: assertion 'GDK_IS_SEAT (seat)' failed\n",
      "\n",
      "(tilix:1298): Gdk-CRITICAL **: 15:30:24.076: gdk_seat_get_keyboard: assertion 'GDK_IS_SEAT (seat)' failed\n",
      "\n",
      "(tilix:1298): Gdk-CRITICAL **: 15:30:24.076: gdk_seat_get_keyboard: assertion 'GDK_IS_SEAT (seat)' failed\n",
      "\n",
      "(tilix:1298): Gdk-CRITICAL **: 15:30:24.076: gdk_seat_get_keyboard: assertion 'GDK_IS_SEAT (seat)' failed\n",
      "\n",
      "(tilix:1298): Gdk-CRITICAL **: 15:30:24.076: gdk_seat_get_keyboard: assertion 'GDK_IS_SEAT (seat)' failed\n",
      "\n",
      "(tilix:1298): Gdk-CRITICAL **: 15:30:24.076: gdk_seat_get_keyboard: assertion 'GDK_IS_SEAT (seat)' failed\n",
      "\n",
      "(tilix:1298): Gdk-CRITICAL **: 15:30:24.076: gdk_seat_get_keyboard: assertion 'GDK_IS_SEAT (seat)' failed\n",
      "\n",
      "(tilix:1298): Gdk-CRITICAL **: 15:30:24.076: gdk_seat_get_keyboard: assertion 'GDK_IS_SEAT (seat)' failed\n",
      "\n",
      "(tilix:1298): GLib-GObject-WARNING **: 15:30:24.137: invalid (NULL) pointer instance\n",
      "\n",
      "(tilix:1298): GLib-GObject-CRITICAL **: 15:30:24.138: g_signal_handlers_disconnect_matched: assertion 'G_TYPE_CHECK_INSTANCE (instance)' failed\n",
      "\n",
      "(tilix:1298): Gdk-CRITICAL **: 15:30:24.254: gdk_seat_get_keyboard: assertion 'GDK_IS_SEAT (seat)' failed\n"
     ]
    }
   ],
   "source": [
    "# Problem 2.14.8: Use the plot module to plot\n",
    "# (a) a substantial portion of the line through [-1.5,2] and [3,0], and\n",
    "# (b) the line segment between [2,1] and [-2,2].\n",
    "# For each, provide the Python statements you used and the plot obtained.\n",
    "\n",
    "def line(alpha, v1, v2): \n",
    "    m = (v1[1]-v2[1])/(v1[0]-v2[0])\n",
    "    return [alpha, m*(alpha-v1[0])+v1[1]]\n",
    "\n",
    "## a\n",
    "plot([line(i/100,[-1.5,2], [3,0]) for i in range (-1000,1000)], 4)\n",
    "\n",
    "## b\n",
    "plot(line(i/100,[2,1], [-2,2]) for i in range (-200, 200))\n"
   ]
  },
  {
   "cell_type": "code",
   "execution_count": 1,
   "metadata": {},
   "outputs": [
    {
     "data": {
      "text/plain": [
       "True"
      ]
     },
     "execution_count": 1,
     "metadata": {},
     "output_type": "execute_result"
    }
   ],
   "source": [
    "# Problem 2.14.10: Download the file vec.py to your computer, and edit it. The file defines\n",
    "# procedures using the Python statement pass, which does nothing. You can import the vec\n",
    "# module and create instancs of Vec but the operations such as * and + currently do nothing.\n",
    "# Your job is to replace each occurence of the pass statement with appropriate code. Your code\n",
    "# for a procedure can include calls to others of the seven. You should make no changes to the\n",
    "# class definition.\n",
    "\n",
    "from vec import *\n",
    "import importlib\n",
    "\n",
    "v1 = Vec({'p','q','r','s'}, {'p':2,'s':3,'q':-1,'r':0})\n",
    "v2 = Vec({'p','q','r','s'}, {'p':-2,'r':5})\n",
    "v1*v2"
   ]
  }
 ],
 "metadata": {
  "kernelspec": {
   "display_name": "Python 3.10.6 64-bit",
   "language": "python",
   "name": "python3"
  },
  "language_info": {
   "codemirror_mode": {
    "name": "ipython",
    "version": 3
   },
   "file_extension": ".py",
   "mimetype": "text/x-python",
   "name": "python",
   "nbconvert_exporter": "python",
   "pygments_lexer": "ipython3",
   "version": "3.10.6"
  },
  "orig_nbformat": 4,
  "vscode": {
   "interpreter": {
    "hash": "e7370f93d1d0cde622a1f8e1c04877d8463912d04d973331ad4851f04de6915a"
   }
  }
 },
 "nbformat": 4,
 "nbformat_minor": 2
}
