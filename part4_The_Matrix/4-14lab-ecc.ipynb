{
 "cells": [
  {
   "cell_type": "markdown",
   "metadata": {},
   "source": []
  },
  {
   "cell_type": "code",
   "execution_count": 2,
   "metadata": {},
   "outputs": [
    {
     "data": {
      "text/plain": [
       "Mat(({0, 1, 2, 3, 4, 5}, {0, 1, 2, 3}), {(0, 0): one, (0, 1): 0, (0, 2): one, (0, 3): one, (1, 0): one, (1, 1): one, (1, 2): 0, (1, 3): one, (2, 0): 0, (2, 1): 0, (2, 2): 0, (2, 3): one, (3, 0): 0, (3, 1): 0, (3, 2): one, (3, 3): 0, (4, 0): 0, (4, 1): one, (4, 2): 0, (4, 3): 0, (5, 0): one, (5, 1): 0, (5, 2): 0, (5, 3): 0})"
      ]
     },
     "execution_count": 2,
     "metadata": {},
     "output_type": "execute_result"
    }
   ],
   "source": [
    "import sys\n",
    "sys.path.append('..')\n",
    "\n",
    "from matutil import listlist2mat\n",
    "from GF2 import one\n",
    "\n",
    "G = listlist2mat([[one,0,one,one],[one,one,0,one],[0,0,0,one],[0,0,one,0],[0,one,0,0],[one,0,0,0]])#\n",
    "G\n"
   ]
  },
  {
   "cell_type": "markdown",
   "metadata": {},
   "source": [
    "## Task 4.one4.2\n",
    "What is the encoding of the message [one, 0, 0, one]?"
   ]
  },
  {
   "cell_type": "code",
   "execution_count": 3,
   "metadata": {},
   "outputs": [
    {
     "ename": "NameError",
     "evalue": "name 'one' is not defined",
     "output_type": "error",
     "traceback": [
      "\u001b[0;31m---------------------------------------------------------------------------\u001b[0m",
      "\u001b[0;31mNameError\u001b[0m                                 Traceback (most recent call last)",
      "Cell \u001b[0;32mIn [3], line 4\u001b[0m\n\u001b[1;32m      1\u001b[0m \u001b[39mfrom\u001b[39;00m \u001b[39mvecutil\u001b[39;00m \u001b[39mimport\u001b[39;00m list2vec\n\u001b[1;32m      2\u001b[0m \u001b[39mfrom\u001b[39;00m \u001b[39mmat\u001b[39;00m \u001b[39mimport\u001b[39;00m Mat\n\u001b[0;32m----> 4\u001b[0m p \u001b[39m=\u001b[39m list2vec([one,\u001b[39m0\u001b[39m,\u001b[39m0\u001b[39m,one])\n\u001b[1;32m      6\u001b[0m a \u001b[39m=\u001b[39m G\u001b[39m*\u001b[39mp\n\u001b[1;32m      7\u001b[0m a\n",
      "\u001b[0;31mNameError\u001b[0m: name 'one' is not defined"
     ]
    }
   ],
   "source": [
    "from vecutil import list2vec\n",
    "from mat import Mat\n",
    "\n",
    "p = list2vec([one,0,0,one])\n",
    "\n",
    "a = G*p\n",
    "a"
   ]
  },
  {
   "cell_type": "code",
   "execution_count": 9,
   "metadata": {},
   "outputs": [],
   "source": [
    "sys.path.append('..')\n",
    "from mat import Mat\n",
    "from vec import Vec\n",
    "\n",
    "C = Mat(({0,1,2}, {'a','b'}), {(0,'a'):4, (0,'b'):-3, (1,'a'):1, (2,'a'):1, (2,'b'):-2})\n",
    "D = Mat(({'a','b'}, {'x','y'}), {('a','x'):3, ('a','y'):-2, ('b','x'):4, ('b','y'):-1})\n",
    "C*D \n",
    "# == Mat(({0,1,2}, {'x','y'}), {(0,'y'):-5, (1,'x'):3, (1,'y'):-2, (2,'x'):-5})"
   ]
  }
 ],
 "metadata": {
  "kernelspec": {
   "display_name": "Python 3.10.6 64-bit",
   "language": "python",
   "name": "python3"
  },
  "language_info": {
   "codemirror_mode": {
    "name": "ipython",
    "version": 3
   },
   "file_extension": ".py",
   "mimetype": "text/x-python",
   "name": "python",
   "nbconvert_exporter": "python",
   "pygments_lexer": "ipython3",
   "version": "3.10.6"
  },
  "orig_nbformat": 4,
  "vscode": {
   "interpreter": {
    "hash": "e7370f93d1d0cde622a1f8e1c04877d8463912d04d973331ad4851f04de6915a"
   }
  }
 },
 "nbformat": 4,
 "nbformat_minor": 2
}
