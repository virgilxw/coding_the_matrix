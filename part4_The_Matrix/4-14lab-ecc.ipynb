{
 "cells": [
  {
   "cell_type": "markdown",
   "metadata": {},
   "source": [
    "# 4.14 Lab: Error-correcting codes\n",
    "\n",
    "In this lab, we work with vectors and matrices over GF(2). So when you see 1’s and 0’s in\n",
    "this description, remember that each 1 is really the value one from the module GF2.\n",
    "\n",
    "## 4.14.1 The check matrix\n",
    "In Section 4.7.3, I introduced error-correcting codes. As we have seen, in a linear binary\n",
    "code, the set C of codewords is a vector space over GF(2). In such a code, there is a matrix\n",
    "H, called the check matrix, such that C is the null space of H. When the Receiver receives\n",
    "the vector ˜c, she can check whether the received vector is a codeword by multiplying it by\n",
    "H and checking whether the resulting vector (called the error syndrome) is the zero vector.\n",
    "\n",
    "## 4.14.2 The generator matrix\n",
    "We have characterized the vector space C as the null space of the check matrix H. There is\n",
    "another way to specify a vector space: in terms of generators. The generator matrix for a\n",
    "linear code is a matrix G whose columns are generators for the set C of codewords.a\n",
    "\n",
    "By the linear-combinations definition of matrix-vector multiplication, every matrix-vector\n",
    "product G ∗ p is a linear combination of the columns of G, and is therefore a codeword.\n",
    "\n",
    "## 4.14.3 Hamming’s code\n",
    "Hamming discovered a code in which a four-bit message is represented by a seven-bit codeword.\n",
    "The generator matrix is...\n",
    "\n",
    "A four-bit message is represented by a 4-vector p over GF(2). The encoding of p is the\n",
    "7-vector resulting from the matrix-vector product G ∗ p.\n",
    "Let fG be the encoding function, the function defined by fG(x) = G ∗ p. The image of\n",
    "fG, the set of all codewords, is the row space of G.\n",
    "\n",
    "## Task 4.14.1: \n",
    "Create an instance of Mat representing the generator matrix G. You can use\n",
    "the procedure listlist2mat in the matutil module. Since we are working over GF(2),\n",
    "you should use the value one from the GF2 module to represent 1."
   ]
  },
  {
   "cell_type": "code",
   "execution_count": 1,
   "metadata": {},
   "outputs": [
    {
     "data": {
      "text/plain": [
       "Mat(({0, 1, 2, 3, 4, 5}, {0, 1, 2, 3}), {(0, 0): one, (0, 1): 0, (0, 2): one, (0, 3): one, (1, 0): one, (1, 1): one, (1, 2): 0, (1, 3): one, (2, 0): 0, (2, 1): 0, (2, 2): 0, (2, 3): one, (3, 0): 0, (3, 1): 0, (3, 2): one, (3, 3): 0, (4, 0): 0, (4, 1): one, (4, 2): 0, (4, 3): 0, (5, 0): one, (5, 1): 0, (5, 2): 0, (5, 3): 0})"
      ]
     },
     "execution_count": 1,
     "metadata": {},
     "output_type": "execute_result"
    }
   ],
   "source": [
    "import sys\n",
    "sys.path.append('..')\n",
    "\n",
    "from matutil import listlist2mat\n",
    "from GF2 import one\n",
    "\n",
    "G = listlist2mat([[one,0,one,one],[one,one,0,one],[0,0,0,one],[0,0,one,0],[0,one,0,0],[one,0,0,0]])\n",
    "G\n"
   ]
  },
  {
   "cell_type": "markdown",
   "metadata": {},
   "source": [
    "## Task 4.14.2\n",
    "What is the encoding of the message [one, 0, 0, one]?"
   ]
  },
  {
   "cell_type": "code",
   "execution_count": 2,
   "metadata": {},
   "outputs": [
    {
     "data": {
      "text/plain": [
       "Vec({0, 1, 2, 3, 4, 5},{0: 0, 1: 0, 2: one, 3: 0, 4: 0, 5: one})"
      ]
     },
     "execution_count": 2,
     "metadata": {},
     "output_type": "execute_result"
    }
   ],
   "source": [
    "from vecutil import list2vec\n",
    "from mat import Mat\n",
    "\n",
    "p = list2vec([one,0,0,one])\n",
    "\n",
    "a = G*p\n",
    "a"
   ]
  }
 ],
 "metadata": {
  "kernelspec": {
   "display_name": "Python 3.10.6 64-bit",
   "language": "python",
   "name": "python3"
  },
  "language_info": {
   "codemirror_mode": {
    "name": "ipython",
    "version": 3
   },
   "file_extension": ".py",
   "mimetype": "text/x-python",
   "name": "python",
   "nbconvert_exporter": "python",
   "pygments_lexer": "ipython3",
   "version": "3.10.6"
  },
  "orig_nbformat": 4,
  "vscode": {
   "interpreter": {
    "hash": "e7370f93d1d0cde622a1f8e1c04877d8463912d04d973331ad4851f04de6915a"
   }
  }
 },
 "nbformat": 4,
 "nbformat_minor": 2
}
